{
 "cells": [
  {
   "cell_type": "code",
   "execution_count": 58,
   "metadata": {
    "id": "ivc67Zs-FJdv"
   },
   "outputs": [],
   "source": [
    "import pandas as pd\n",
    "import numpy as np\n",
    "from sklearn.tree import DecisionTreeRegressor\n",
    "from sklearn.model_selection import train_test_split"
   ]
  },
  {
   "cell_type": "code",
   "execution_count": 103,
   "metadata": {
    "id": "9mnoc_p6EGmm"
   },
   "outputs": [],
   "source": [
    "df = pd.read_csv(\"dataset_houses_1.csv\",delimiter=\";\",na_values='_')\n"
   ]
  },
  {
   "cell_type": "code",
   "execution_count": 104,
   "metadata": {
    "id": "ksVFnnHqOZAH"
   },
   "outputs": [
    {
     "name": "stdout",
     "output_type": "stream",
     "text": [
      "Veiem si n'hi ha valors nuls al dataset - features \n"
     ]
    },
    {
     "data": {
      "text/plain": [
       "Preu                    0\n",
       "Zona                    0\n",
       "Superficie            121\n",
       "Habitacions           121\n",
       "Lavabos               121\n",
       "Preu metre            121\n",
       "Calefaccio              0\n",
       "Aire acondicionat       0\n",
       "Any construccio       956\n",
       "Aparcament              0\n",
       "Piscina                 0\n",
       "Ascensor                0\n",
       "Planta               2422\n",
       "Consum                351\n",
       "Venda/lloguer           0\n",
       "dtype: int64"
      ]
     },
     "metadata": {},
     "output_type": "display_data"
    }
   ],
   "source": [
    "print(\"Veiem si hi ha valors nuls al dataset - features \")\n",
    "display(df.isnull().sum())"
   ]
  },
  {
   "cell_type": "code",
   "execution_count": 105,
   "metadata": {
    "id": "HN_lpJyEOt0p"
   },
   "outputs": [
    {
     "data": {
      "text/plain": [
       "Preu                 0\n",
       "Zona                 0\n",
       "Superficie           0\n",
       "Habitacions          0\n",
       "Lavabos              0\n",
       "Preu metre           0\n",
       "Calefaccio           0\n",
       "Aire acondicionat    0\n",
       "Any construccio      0\n",
       "Aparcament           0\n",
       "Piscina              0\n",
       "Ascensor             0\n",
       "Planta               0\n",
       "Consum               0\n",
       "Venda/lloguer        0\n",
       "dtype: int64"
      ]
     },
     "metadata": {},
     "output_type": "display_data"
    }
   ],
   "source": [
    "df=df.dropna()\n",
    "display(df.isnull().sum())"
   ]
  },
  {
   "cell_type": "code",
   "execution_count": 106,
   "metadata": {
    "id": "jQRqJV6gHALi"
   },
   "outputs": [],
   "source": [
    "df_mask = df['Venda/lloguer']=='Venda'\n",
    "dfv = df[df_mask]\n",
    "\n",
    "df_mask = dfv['Ascensor']=='Si'\n",
    "dfv.loc[df_mask, 'Ascensor'] = 1\n",
    "dfv.loc[-df_mask, 'Ascensor'] = 0\n",
    "\n",
    "df_mask = dfv['Aparcament']=='Si'\n",
    "dfv.loc[df_mask, 'Aparcament'] = 1\n",
    "dfv.loc[-df_mask, 'Aparcament'] = 0\n",
    "\n",
    "df_mask = dfv['Aire acondicionat']=='Si'\n",
    "dfv.loc[df_mask, 'Aire acondicionat'] = 1\n",
    "dfv.loc[-df_mask, 'Aire acondicionat'] = 0\n",
    "\n",
    "df_mask = dfv['Calefaccio']=='Si'\n",
    "dfv.loc[df_mask, 'Calefaccio'] = 1\n",
    "dfv.loc[-df_mask, 'Calefaccio'] = 0\n"
   ]
  },
  {
   "cell_type": "code",
   "execution_count": 107,
   "metadata": {
    "id": "fOH31-x_GBkD"
   },
   "outputs": [],
   "source": [
    "X = dfv[[\n",
    "    #'Zona',\n",
    "    'Superficie',\n",
    "    'Habitacions',\n",
    "    'Lavabos',\n",
    "    #'Preu metre',\n",
    "    'Calefaccio',\n",
    "    'Aire acondicionat',\n",
    "    'Any construccio',\n",
    "    'Aparcament',\n",
    "    #'Piscina',\n",
    "    'Ascensor',\n",
    "    'Planta',\n",
    "    #'Consum',\n",
    "    #'Venda/Lloguer'\n",
    "]]\n",
    "\n",
    "y = dfv['Preu']"
   ]
  },
  {
   "cell_type": "code",
   "execution_count": 108,
   "metadata": {
    "id": "xgONWlgfLYZU"
   },
   "outputs": [],
   "source": [
    "\n",
    "# Divisió del dataset en dos subconjunts 80 - 20\n",
    "X_train, X_test, y_train, y_test = train_test_split(X, y, test_size = 0.2, random_state = 24)"
   ]
  },
  {
   "cell_type": "code",
   "execution_count": 109,
   "metadata": {
    "colab": {
     "base_uri": "https://localhost:8080/"
    },
    "id": "-iFR-IzJP8j8",
    "outputId": "9e6b96df-8f77-4324-8b19-68d2d4fe3874"
   },
   "outputs": [
    {
     "data": {
      "text/plain": [
       "DecisionTreeRegressor(max_depth=5, random_state=24)"
      ]
     },
     "execution_count": 109,
     "metadata": {},
     "output_type": "execute_result"
    }
   ],
   "source": [
    "\n",
    "#  construcció del model regressor\n",
    "\n",
    "clf = DecisionTreeRegressor(max_depth = 5, \n",
    "                             random_state = 24)\n",
    "\n",
    "clf.fit(X_train, y_train)"
   ]
  },
  {
   "cell_type": "code",
   "execution_count": 110,
   "metadata": {
    "id": "yYBxRathPlnw"
   },
   "outputs": [
    {
     "name": "stdout",
     "output_type": "stream",
     "text": [
      "        Preu            Zona  Superficie  Habitacions  Lavabos  Preu metre  \\\n",
      "187   225000          Centre       110.0          4.0      2.0      2045.0   \n",
      "199   176000  Sant Pere Nord        92.0          3.0      2.0      1913.0   \n",
      "200   119500  Sant Pere Nord        82.0          3.0      1.0      1457.0   \n",
      "202   149000       Sant Pere        90.0          3.0      1.0      1656.0   \n",
      "207   249000     Ca n�Aurell       164.0          5.0      2.0      1518.0   \n",
      "...      ...             ...         ...          ...      ...         ...   \n",
      "2955  130000     Pere parres        84.0          3.0      1.0      1548.0   \n",
      "2961  142000       Roc Blanc        52.0          1.0      1.0      2731.0   \n",
      "2971  135500     Ca nﾴAurell       130.0          2.0      1.0      1042.0   \n",
      "3006   84000       Can Palet        73.0          2.0      1.0      1151.0   \n",
      "3049  128000     Ca n�Aurell        73.0          3.0      1.0      1753.0   \n",
      "\n",
      "      Calefaccio  Aire acondicionat  Any construccio  Aparcament Piscina  \\\n",
      "187            1                  0           1973.0           1      No   \n",
      "199            1                  0           2022.0           1      No   \n",
      "200            1                  0           1970.0           0      No   \n",
      "202            1                  1           1975.0           0      No   \n",
      "207            1                  0           1942.0           0      No   \n",
      "...          ...                ...              ...         ...     ...   \n",
      "2955           1                  0           1976.0           0      No   \n",
      "2961           1                  1           2006.0           1      No   \n",
      "2971           0                  0           1950.0           0      No   \n",
      "3006           1                  1           1973.0           0      No   \n",
      "3049           1                  1           1978.0           0      No   \n",
      "\n",
      "      Ascensor  Planta Consum Venda/lloguer  Preu anunci  Preu pred Status  \n",
      "187          1     5.0      C         Venda       225000     227462  xollo  \n",
      "199          1     3.0      G         Venda       176000     262636  xollo  \n",
      "200          1     2.0      E         Venda       119500     154078  xollo  \n",
      "202          1     1.0      D         Venda       149000     154078  xollo  \n",
      "207          0     1.0      D         Venda       249000     270525  xollo  \n",
      "...        ...     ...    ...           ...          ...        ...    ...  \n",
      "2955         0     2.0      D         Venda       130000     154078  xollo  \n",
      "2961         1     1.0      E         Venda       142000     157664  xollo  \n",
      "2971         0     1.0      A         Venda       135500     183437  xollo  \n",
      "3006         0     4.0      G         Venda        84000     103259  xollo  \n",
      "3049         1     5.0      G         Venda       128000     131812  xollo  \n",
      "\n",
      "[308 rows x 18 columns]\n"
     ]
    }
   ],
   "source": [
    "#  dataframe amb les dades dels immobles, el preu real i el preu estimat\n",
    "\n",
    "xollo = dfv.copy()\n",
    "xollo['Preu anunci'] = y\n",
    "xollo['Preu pred'] = clf.predict(X)\n",
    "\n",
    "\n",
    "xollo[['Preu pred']]=xollo[['Preu pred']].astype(int)\n",
    "\n",
    "# nova columna on s'identifica els xollos (preu real < preu predicció) \n",
    "\n",
    "xollo['Status'] = np.where(xollo['Preu anunci']>=xollo['Preu pred'], '-', 'xollo')\n",
    "\n",
    "\n",
    "# Es mostra la llista de xollos\n",
    "\n",
    "df_mask=xollo['Status']== 'xollo'\n",
    "filtered_df = xollo[df_mask]\n",
    "print(filtered_df)"
   ]
  },
  {
   "cell_type": "code",
   "execution_count": 111,
   "metadata": {
    "id": "9Eli8tiUt4LA"
   },
   "outputs": [],
   "source": [
    "filtered_df.to_csv (\"dataset_xollos2.csv\", index = False, header=True)"
   ]
  },
  {
   "cell_type": "code",
   "execution_count": null,
   "metadata": {},
   "outputs": [],
   "source": []
  }
 ],
 "metadata": {
  "colab": {
   "collapsed_sections": [],
   "name": "Xollos.ipynb",
   "provenance": []
  },
  "kernelspec": {
   "display_name": "Python 3",
   "language": "python",
   "name": "python3"
  },
  "language_info": {
   "codemirror_mode": {
    "name": "ipython",
    "version": 3
   },
   "file_extension": ".py",
   "mimetype": "text/x-python",
   "name": "python",
   "nbconvert_exporter": "python",
   "pygments_lexer": "ipython3",
   "version": "3.7.4"
  }
 },
 "nbformat": 4,
 "nbformat_minor": 4
}
